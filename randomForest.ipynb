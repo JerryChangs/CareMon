from sklearn.ensemble import RandomForestClassifier
from sklearn import cross_validation
import numpy as np
import png
import random


X = []
y = []
x_test = []

for i in range(1000):
	pose_0 = ’dataset2/pose0_fetal/pose0_’ + str(i+1).zfill(4) + ’.png’
	pose_1 = ’dataset2/pose1_log/pose1_’ + str(i+1).zfill(4) + ’.png’
	pose_2 = ’dataset2/pose2_yearner/pose2_’ + str(i+1).zfill(4) + ’.png’
	pose_3 = ’dataset2/pose3_soldier/pose3_’ + str(i+1).zfill(4) + ’.png’
	pose_4 = ’dataset2/pose4_freefaller/pose4_’ + str(i+1).zfill(4) + ’.png’

	img0 = png.Reader(pose_0).asDirect()
	img1 = png.Reader(pose_1).asDirect()
	img2 = png.Reader(pose_2).asDirect()
	img3 = png.Reader(pose_3).asDirect()
	img4 = png.Reader(pose_4).asDirect()

	for item in img0[2]:
		X.append(np.array(item))

	for item in img1[2]:
		X.append(np.array(item))

	for item in img2[2]:
		X.append(np.array(item))

	for item in img3[2]:
		X.append(np.array(item))

	for item in img4[2]:
		X.append(np.array(item))

	y.append(0)
	y.append(1)
	y.append(2)
	y.append(3)
	y.append(4)

for i in range(1000):
	pose_0 = ’dataset1/pose0_fetus/pose0_’ + str(i+1).zfill(4) + ’.png’
	pose_1 = ’dataset1/pose1_log/pose1_’ + str(i+1).zfill(4) + ’.png’
	pose_2 = ’dataset1/pose2_yearner/pose2_’ + str(i+1).zfill(4) + ’.png’
	pose_3 = ’dataset1/pose3_soldier/pose3_’ + str(i+1).zfill(4) + ’.png’
	pose_4 = ’dataset1/pose4_freefaller/pose4_’ + str(i+1).zfill(4) + ’.png’

	img0 = png.Reader(pose_0).asDirect()
	img1 = png.Reader(pose_1).asDirect()
	img2 = png.Reader(pose_2).asDirect()
	img3 = png.Reader(pose_3).asDirect()
	img4 = png.Reader(pose_4).asDirect()

	for item in img0[2]:
		X.append(np.array(item))

	for item in img1[2]:
		X.append(np.array(item))

	for item in img2[2]:
		X.append(np.array(item))

	for item in img3[2]:
		X.append(np.array(item))

	for item in img4[2]:
		X.append(np.array(item))

	y.append(0)
	y.append(1)
	y.append(2)
	y.append(3)
	y.append(4)

X_train, X_test, y_train, y_test = cross_validation.train_test_split(
X, y, test_size=0.4, random_state=0)

synth = []

y_synth = []

#Select 100 random samples per pose
r = random.sample(range(0, 1000), 100)
count = 0

for i in range(0, 1000):
	for j in range(i+1, 1000):
		if (y_train[i] == y_train[j]):
			item1 = X_train[i]
			item2 = X_train[j]
			
			for c in range(5):
				diff = (item2-item1)//5
				synth.append(item1 + c*diff)
				y_synth.append(y_train[i])

model= RandomForestClassifier(n_estimators=100)
model.fit(synth,y_synth)

predicted= model.predict(X_test)
incorrect = 0
correct = 0
results = [[0,0,0,0,0], [0,0,0,0,0], [0,0,0,0,0], [0,0,0,0,0], [0,0,0,0,0]]

for j in range(predicted.shape[0]):
	results[predicted[j]][y_test[j]] += 1

print(results)
